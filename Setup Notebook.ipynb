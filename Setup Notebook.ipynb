{
 "cells": [
  {
   "cell_type": "markdown",
   "metadata": {},
   "source": [
    "Thank you for agreeing to participate in UDST's second pilot workshop. You'll be working in this notebook tomorrow, it loads in the data for you and provides a useful function. Have fun!"
   ]
  },
  {
   "cell_type": "code",
   "execution_count": 20,
   "metadata": {
    "collapsed": true
   },
   "outputs": [],
   "source": [
    "#load in necessary libraries\n",
    "\n",
    "%matplotlib inline\n",
    "\n",
    "import os\n",
    "import numpy as np\n",
    "import pandas as pd\n",
    "import seaborn as sns\n",
    "import matplotlib.pyplot as plt\n",
    "import sklearn as sk\n",
    "import os"
   ]
  },
  {
   "cell_type": "code",
   "execution_count": 21,
   "metadata": {
    "collapsed": true
   },
   "outputs": [],
   "source": [
    "#load in particular modules (we'll likely load in more during the workshop)\n",
    "from sklearn.cross_validation import train_test_split\n",
    "from sklearn.cluster import KMeans\n",
    "from sklearn import linear_model"
   ]
  },
  {
   "cell_type": "code",
   "execution_count": 22,
   "metadata": {
    "collapsed": false
   },
   "outputs": [],
   "source": [
    "#load the data\n",
    "cwd = os.getcwd()\n",
    "file_path = os.path.join(cwd, 'Speed Dating Data.csv')\n",
    "\n",
    "#read the data\n",
    "df = pd.read_csv(file_path, encoding='cp1252')\n",
    "pd.options.display.max_columns = 200\n",
    "pd.options.display.max_rows = 100"
   ]
  },
  {
   "cell_type": "code",
   "execution_count": 23,
   "metadata": {
    "collapsed": false
   },
   "outputs": [],
   "source": [
    "#splitting the data by gender\n",
    "female_df = df.loc[df['gender'] == 0]\n",
    "male_df = df.loc[df['gender'] == 1]"
   ]
  },
  {
   "cell_type": "code",
   "execution_count": 24,
   "metadata": {
    "collapsed": true
   },
   "outputs": [],
   "source": [
    "#YOUR INPUT HERE, PUT IN THE FEATURES YOU'RE INTERESTED IN INVESTIGATING\n",
    "features = ['dec','attr','sinc','intel','fun', 'amb', 'shar', 'prob']"
   ]
  },
  {
   "cell_type": "code",
   "execution_count": 25,
   "metadata": {
    "collapsed": false
   },
   "outputs": [
    {
     "data": {
      "text/plain": [
       "(3415, 8)"
      ]
     },
     "execution_count": 25,
     "metadata": {},
     "output_type": "execute_result"
    }
   ],
   "source": [
    "female_decision_df=female_df.filter(features, axis=1)\n",
    "female_decision_df.isnull().sum()\n",
    "\n",
    "#for simplicity, we will remove all the rows with null entries\n",
    "clean_female_decision_df = female_decision_df.dropna(axis=0, how='any')\n",
    "clean_female_decision_df.shape"
   ]
  },
  {
   "cell_type": "code",
   "execution_count": 26,
   "metadata": {
    "collapsed": false
   },
   "outputs": [
    {
     "data": {
      "text/plain": [
       "(3555, 8)"
      ]
     },
     "execution_count": 26,
     "metadata": {},
     "output_type": "execute_result"
    }
   ],
   "source": [
    "male_decision_df=male_df.filter(features, axis=1)\n",
    "male_decision_df.isnull().sum()\n",
    "\n",
    "#for simplicity, we will remove all the rows with null entries\n",
    "clean_male_decision_df = male_decision_df.dropna(axis=0, how='any')\n",
    "clean_male_decision_df.shape"
   ]
  },
  {
   "cell_type": "code",
   "execution_count": 27,
   "metadata": {
    "collapsed": false
   },
   "outputs": [
    {
     "name": "stdout",
     "output_type": "stream",
     "text": [
      "Proportion of acceptance by female is 0.372181551977\n"
     ]
    }
   ],
   "source": [
    "yes_female = clean_female_decision_df.query('dec == 1')\n",
    "no_female = clean_female_decision_df.query('dec == 0')\n",
    "print('Proportion of acceptance by female is {}'.format(float(yes_female.shape[0])/clean_female_decision_df.shape[0]))"
   ]
  },
  {
   "cell_type": "code",
   "execution_count": 28,
   "metadata": {
    "collapsed": false
   },
   "outputs": [
    {
     "name": "stdout",
     "output_type": "stream",
     "text": [
      "Proportion of acceptance by male is 0.488326300985\n"
     ]
    }
   ],
   "source": [
    "yes_male = clean_male_decision_df.query('dec == 1')\n",
    "no_male = clean_male_decision_df.query('dec == 0')\n",
    "print('Proportion of acceptance by male is {}'.format(float(yes_male.shape[0])/clean_male_decision_df.shape[0]))"
   ]
  },
  {
   "cell_type": "code",
   "execution_count": 29,
   "metadata": {
    "collapsed": true
   },
   "outputs": [],
   "source": [
    "#useful function\n",
    "def plot_feature(feature):\n",
    "    ax = plt.subplot(211)\n",
    "    ax.set_title('female')\n",
    "    x = [no_female[feature].values]\n",
    "    y = [yes_female[feature].values]\n",
    "    plt.hist([x, y], label=['no','yes'])\n",
    "    ax.legend()\n",
    "    \n",
    "    ax = plt.subplot(212)\n",
    "    ax.set_title('male')\n",
    "    x = [no_male[feature].values]\n",
    "    y = [yes_male[feature].values]\n",
    "    plt.hist([x, y], label=['no','yes'])\n",
    "    ax.legend()\n",
    "    plt.show()"
   ]
  },
  {
   "cell_type": "code",
   "execution_count": 31,
   "metadata": {
    "collapsed": false
   },
   "outputs": [
    {
     "data": {
      "image/png": "[encoded data removed]",
      "text/plain": [
       "<matplotlib.figure.Figure at 0x7f68474d5ad0>"
      ]
     },
     "metadata": {},
     "output_type": "display_data"
    }
   ],
   "source": [
    "#enter the feature you'd like to plot\n",
    "plot_feature('attr')"
   ]
  },
  {
   "cell_type": "code",
   "execution_count": 32,
   "metadata": {
    "collapsed": false
   },
   "outputs": [
    {
     "data": {
      "image/png": "[encoded data removed]",
      "text/plain": [
       "<matplotlib.figure.Figure at 0x7f68473b7b50>"
      ]
     },
     "metadata": {},
     "output_type": "display_data"
    }
   ],
   "source": [
    "plot_feature('sinc')"
   ]
  },
  {
   "cell_type": "code",
   "execution_count": 33,
   "metadata": {
    "collapsed": true
   },
   "outputs": [],
   "source": [
    "female_train, female_test = train_test_split(clean_female_decision_df, test_size = 0.2, random_state=42)\n",
    "male_train, male_test = train_test_split(clean_male_decision_df, test_size = 0.2, random_state=42)"
   ]
  },
  {
   "cell_type": "code",
   "execution_count": 34,
   "metadata": {
    "collapsed": true
   },
   "outputs": [],
   "source": [
    "lr = linear_model.LogisticRegression()"
   ]
  },
  {
   "cell_type": "code",
   "execution_count": 37,
   "metadata": {
    "collapsed": false
   },
   "outputs": [
    {
     "name": "stdout",
     "output_type": "stream",
     "text": [
      "female: training set performance is 0.741581259151\n",
      "female: test set performance is 0.711566617862\n",
      "[[ 0.3914477   0.34773372]]\n"
     ]
    }
   ],
   "source": [
    "predictors = ['attr', 'fun']\n",
    "female_model = lr.fit(female_train[predictors].values, female_train['dec'].values)\n",
    "print('female: training set performance is {}'.format(female_model.score(female_train[predictors].values, \n",
    "                                                                         female_train['dec'].values)))\n",
    "print('female: test set performance is {}'.format(female_model.score(female_test[predictors].values, \n",
    "                                                                         female_test['dec'].values)))\n",
    "print(female_model.coef_)"
   ]
  },
  {
   "cell_type": "code",
   "execution_count": 38,
   "metadata": {
    "collapsed": false
   },
   "outputs": [
    {
     "name": "stdout",
     "output_type": "stream",
     "text": [
      "male: training set performance is 0.746483825598\n",
      "male: test set performance is 0.731364275668\n",
      "[[ 0.65007789  0.2390281 ]]\n"
     ]
    }
   ],
   "source": [
    "male_model = lr.fit(male_train[predictors].values, male_train['dec'].values)\n",
    "print('male: training set performance is {}'.format(male_model.score(male_train[predictors].values, \n",
    "                                                                         male_train['dec'].values)))\n",
    "print('male: test set performance is {}'.format(male_model.score(male_test[predictors].values, \n",
    "                                                                         male_test['dec'].values)))\n",
    "print(male_model.coef_)"
   ]
  },
  {
   "cell_type": "code",
   "execution_count": null,
   "metadata": {
    "collapsed": true
   },
   "outputs": [],
   "source": []
  }
 ],
 "metadata": {
  "anaconda-cloud": {},
  "kernelspec": {
   "display_name": "Python [conda root]",
   "language": "python",
   "name": "conda-root-py"
  },
  "language_info": {
   "codemirror_mode": {
    "name": "ipython",
    "version": 2
   },
   "file_extension": ".py",
   "mimetype": "text/x-python",
   "name": "python",
   "nbconvert_exporter": "python",
   "pygments_lexer": "ipython2",
   "version": "2.7.12"
  }
 },
 "nbformat": 4,
 "nbformat_minor": 1
}
