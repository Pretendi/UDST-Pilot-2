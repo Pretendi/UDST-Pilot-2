{
 "cells": [
  {
   "cell_type": "markdown",
   "metadata": {},
   "source": [
    "Thank you for agreeing to participate in UDST's second pilot workshop. You'll be working in this notebook tomorrow, it loads in the data for you and provides a useful function. Have fun!"
   ]
  },
  {
   "cell_type": "code",
   "execution_count": 1,
   "metadata": {
    "collapsed": true
   },
   "outputs": [],
   "source": [
    "#load in necessary libraries\n",
    "\n",
    "%matplotlib inline\n",
    "\n",
    "import os\n",
    "import numpy as np\n",
    "import pandas as pd\n",
    "import seaborn as sns\n",
    "import matplotlib.pyplot as plt\n",
    "import sklearn as sk\n",
    "import os"
   ]
  },
  {
   "cell_type": "code",
   "execution_count": 2,
   "metadata": {
    "collapsed": true
   },
   "outputs": [],
   "source": [
    "#load in particular modules (we'll likely load in more during the workshop)\n",
    "from sklearn.cross_validation import train_test_split\n",
    "from sklearn.cluster import KMeans\n",
    "from sklearn import linear_model"
   ]
  },
  {
   "cell_type": "code",
   "execution_count": 3,
   "metadata": {
    "collapsed": true
   },
   "outputs": [],
   "source": [
    "#load the data\n",
    "cwd = os.getcwd()\n",
    "file_path = os.path.join(cwd, 'Speed Dating Data.csv')\n",
    "\n",
    "#read the data\n",
    "df = pd.read_csv(file_path, encoding='cp1252')\n",
    "pd.options.display.max_columns = 200\n",
    "pd.options.display.max_rows = 100"
   ]
  },
  {
   "cell_type": "code",
   "execution_count": 4,
   "metadata": {
    "collapsed": false
   },
   "outputs": [
    {
     "name": "stdout",
     "output_type": "stream",
     "text": [
      "(4184, 195)\n",
      "(4194, 195)\n"
     ]
    }
   ],
   "source": [
    "#splitting the data by gender\n",
    "female_df = df.loc[df['gender'] == 0]\n",
    "male_df = df.loc[df['gender'] == 1]"
   ]
  },
  {
   "cell_type": "code",
   "execution_count": 5,
   "metadata": {
    "collapsed": true
   },
   "outputs": [],
   "source": [
    "#YOUR INPUT HERE, PUT IN THE FEATURES YOU'RE INTERESTED IN INVESTIGATING\n",
    "features = []"
   ]
  },
  {
   "cell_type": "code",
   "execution_count": 6,
   "metadata": {
    "collapsed": false
   },
   "outputs": [
    {
     "data": {
      "text/plain": [
       "(3415, 8)"
      ]
     },
     "execution_count": 6,
     "metadata": {},
     "output_type": "execute_result"
    }
   ],
   "source": [
    "female_decision_df=female_df.filter(features, axis=1)\n",
    "female_decision_df.isnull().sum()\n",
    "\n",
    "#for simplicity, we will remove all the rows with null entries\n",
    "clean_female_decision_df = female_decision_df.dropna(axis=0, how='any')\n",
    "clean_female_decision_df.shape"
   ]
  },
  {
   "cell_type": "code",
   "execution_count": 7,
   "metadata": {
    "collapsed": false
   },
   "outputs": [
    {
     "data": {
      "text/plain": [
       "(3555, 8)"
      ]
     },
     "execution_count": 7,
     "metadata": {},
     "output_type": "execute_result"
    }
   ],
   "source": [
    "male_decision_df=male_df.filter(features, axis=1)\n",
    "male_decision_df.isnull().sum()\n",
    "\n",
    "#for simplicity, we will remove all the rows with null entries\n",
    "clean_male_decision_df = male_decision_df.dropna(axis=0, how='any')\n",
    "clean_male_decision_df.shape"
   ]
  },
  {
   "cell_type": "code",
   "execution_count": 16,
   "metadata": {
    "collapsed": false
   },
   "outputs": [
    {
     "name": "stdout",
     "output_type": "stream",
     "text": [
      "Proportion of acceptance by female is 0.372181551977\n"
     ]
    }
   ],
   "source": [
    "yes_female = clean_female_decision_df.query('dec == 1')\n",
    "no_female = clean_female_decision_df.query('dec == 0')\n",
    "print('Proportion of acceptance by female is {}'.format(float(yes_female.shape[0])/clean_female_decision_df.shape[0]))"
   ]
  },
  {
   "cell_type": "code",
   "execution_count": 18,
   "metadata": {
    "collapsed": false
   },
   "outputs": [
    {
     "name": "stdout",
     "output_type": "stream",
     "text": [
      "Proportion of acceptance by male is 0.488326300985\n"
     ]
    }
   ],
   "source": [
    "yes_male = clean_male_decision_df.query('dec == 1')\n",
    "no_male = clean_male_decision_df.query('dec == 0')\n",
    "print('Proportion of acceptance by male is {}'.format(float(yes_male.shape[0])/clean_male_decision_df.shape[0]))"
   ]
  },
  {
   "cell_type": "code",
   "execution_count": 11,
   "metadata": {
    "collapsed": true
   },
   "outputs": [],
   "source": [
    "#useful function\n",
    "def plot_feature(feature):\n",
    "    ax = plt.subplot(211)\n",
    "    ax.set_title('female')\n",
    "    x = [no_female[feature].values]\n",
    "    y = [yes_female[feature].values]\n",
    "    plt.hist([x, y], label=['no','yes'])\n",
    "    ax.legend()\n",
    "    \n",
    "    ax = plt.subplot(212)\n",
    "    ax.set_title('male')\n",
    "    x = [no_male[feature].values]\n",
    "    y = [yes_male[feature].values]\n",
    "    plt.hist([x, y], label=['no','yes'])\n",
    "    ax.legend()\n",
    "    plt.show()"
   ]
  },
  {
   "cell_type": "code",
   "execution_count": 13,
   "metadata": {
    "collapsed": false
   },
   "outputs": [
    {
     "data": {
      "image/png": "[encoded data removed]",
      "text/plain": [
       "<matplotlib.figure.Figure at 0x7fbdf080e090>"
      ]
     },
     "metadata": {},
     "output_type": "display_data"
    }
   ],
   "source": [
    "#enter the feature you'd like to plot\n",
    "plot_feature()"
   ]
  },
  {
   "cell_type": "code",
   "execution_count": null,
   "metadata": {
    "collapsed": true
   },
   "outputs": [],
   "source": []
  }
 ],
 "metadata": {
  "anaconda-cloud": {},
  "kernelspec": {
   "display_name": "Python [conda root]",
   "language": "python",
   "name": "conda-root-py"
  },
  "language_info": {
   "codemirror_mode": {
    "name": "ipython",
    "version": 2
   },
   "file_extension": ".py",
   "mimetype": "text/x-python",
   "name": "python",
   "nbconvert_exporter": "python",
   "pygments_lexer": "ipython2",
   "version": "2.7.12"
  }
 },
 "nbformat": 4,
 "nbformat_minor": 1
}
