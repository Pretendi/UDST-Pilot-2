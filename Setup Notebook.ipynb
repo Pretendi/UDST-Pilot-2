{
 "cells": [
  {
   "cell_type": "markdown",
   "metadata": {},
   "source": [
    "Thank you for agreeing to participate in UDST's second pilot workshop. You'll be working in this notebook tomorrow, it loads in the data for you and provides a useful function. Have fun!"
   ]
  },
  {
   "cell_type": "code",
   "execution_count": 7,
   "metadata": {
    "collapsed": true
   },
   "outputs": [],
   "source": [
    "#load in necessary libraries\n",
    "\n",
    "%matplotlib inline\n",
    "\n",
    "import os\n",
    "import numpy as np\n",
    "import pandas as pd\n",
    "import seaborn as sns\n",
    "import matplotlib.pyplot as plt\n",
    "import sklearn as sk\n",
    "import os"
   ]
  },
  {
   "cell_type": "code",
   "execution_count": 8,
   "metadata": {
    "collapsed": true
   },
   "outputs": [],
   "source": [
    "#load in particular modules (we'll likely load in more during the workshop)\n",
    "from sklearn.cross_validation import train_test_split\n",
    "from sklearn.cluster import KMeans\n",
    "from sklearn import linear_model"
   ]
  },
  {
   "cell_type": "code",
   "execution_count": 9,
   "metadata": {
    "collapsed": true
   },
   "outputs": [],
   "source": [
    "#load the data\n",
    "cwd = os.getcwd()\n",
    "file_path = os.path.join(cwd, 'Speed Dating Data.csv')\n",
    "\n",
    "#read the data\n",
    "df = pd.read_csv(file_path, encoding='cp1252')\n",
    "pd.options.display.max_columns = 200\n",
    "pd.options.display.max_rows = 100"
   ]
  },
  {
   "cell_type": "code",
   "execution_count": 10,
   "metadata": {
    "collapsed": true
   },
   "outputs": [],
   "source": [
    "#useful function\n",
    "def plot_feature(feature):\n",
    "    ax = plt.subplot(211)\n",
    "    ax.set_title('female')\n",
    "    x = [no_female[feature].values]\n",
    "    y = [yes_female[feature].values]\n",
    "    plt.hist([x, y], label=['no','yes'])\n",
    "    ax.legend()\n",
    "    \n",
    "    ax = plt.subplot(212)\n",
    "    ax.set_title('male')\n",
    "    x = [no_male[feature].values]\n",
    "    y = [yes_male[feature].values]\n",
    "    plt.hist([x, y], label=['no','yes'])\n",
    "    ax.legend()\n",
    "    plt.show()"
   ]
  },
  {
   "cell_type": "code",
   "execution_count": null,
   "metadata": {
    "collapsed": true
   },
   "outputs": [],
   "source": []
  }
 ],
 "metadata": {
  "anaconda-cloud": {},
  "kernelspec": {
   "display_name": "Python [conda root]",
   "language": "python",
   "name": "conda-root-py"
  },
  "language_info": {
   "codemirror_mode": {
    "name": "ipython",
    "version": 2
   },
   "file_extension": ".py",
   "mimetype": "text/x-python",
   "name": "python",
   "nbconvert_exporter": "python",
   "pygments_lexer": "ipython2",
   "version": "2.7.12"
  }
 },
 "nbformat": 4,
 "nbformat_minor": 1
}
